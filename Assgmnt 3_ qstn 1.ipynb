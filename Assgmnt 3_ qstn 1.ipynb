{
 "cells": [
  {
   "cell_type": "markdown",
   "id": "77afb4ab",
   "metadata": {},
   "source": [
    "###Write a Python function to sum all the numbers in a list.\n",
    "\n",
    "\n",
    "\n",
    "Sample List : (8, 2, 3, 0, 7)\n",
    "\n",
    "Expected Output : 20"
   ]
  },
  {
   "cell_type": "code",
   "execution_count": 14,
   "id": "845f4843",
   "metadata": {},
   "outputs": [
    {
     "name": "stdout",
     "output_type": "stream",
     "text": [
      "Enter number of element: 5\n",
      "Enter the element: 10\n",
      "Enter the element: 20\n",
      "Enter the element: 30\n",
      "Enter the element: 40\n",
      "Enter the element: 50\n",
      "[10, 20, 30, 40, 50]\n",
      "150\n"
     ]
    }
   ],
   "source": [
    "def sum_of_element(value):\n",
    "    sum_value=int()\n",
    "    for i in value:\n",
    "        sum_value=i+sum_value\n",
    "    print(sum_value)\n",
    "\n",
    "value=[]\n",
    "n= int(input(\"Enter number of element: \"))\n",
    "for i in range (n):\n",
    "    value.append(int(input(\"Enter the element: \")))\n",
    "print(value)\n",
    "\n",
    "sum_of_element(value)\n"
   ]
  },
  {
   "cell_type": "code",
   "execution_count": null,
   "id": "24fbb13d",
   "metadata": {},
   "outputs": [],
   "source": []
  }
 ],
 "metadata": {
  "kernelspec": {
   "display_name": "Python 3 (ipykernel)",
   "language": "python",
   "name": "python3"
  },
  "language_info": {
   "codemirror_mode": {
    "name": "ipython",
    "version": 3
   },
   "file_extension": ".py",
   "mimetype": "text/x-python",
   "name": "python",
   "nbconvert_exporter": "python",
   "pygments_lexer": "ipython3",
   "version": "3.10.9"
  }
 },
 "nbformat": 4,
 "nbformat_minor": 5
}
